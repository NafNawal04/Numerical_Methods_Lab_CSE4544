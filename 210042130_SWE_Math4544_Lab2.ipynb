{
  "nbformat": 4,
  "nbformat_minor": 0,
  "metadata": {
    "colab": {
      "provenance": []
    },
    "kernelspec": {
      "name": "python3",
      "display_name": "Python 3"
    },
    "language_info": {
      "name": "python"
    }
  },
  "cells": [
    {
      "cell_type": "markdown",
      "metadata": {
        "id": "SChhcgB_Tkv9"
      },
      "source": [
        "# **Lab 2 : Direct method of Interpolation**<br>\n",
        "\n",
        "Interpolation is the process of estimating unknown data that lies within the range of some known data. The simplest interpolation is the **Direct method of Interpolation**. In order to interpolate unknown data, one needs to define a model that would fit the known data and based on that model, one would obtain the unknown data. This model would basically be a function that tries to satisfy the known data points. There can be various types of functions that may satisfy the same given data points, but for interpolation, we usually choose **polynomials** as interpolating functions due to the fact that polynomials are very easy to evaluate, differentiate and integrate.\n",
        "\n",
        "In today's lab, we will be implementing the Direct method of Interpolation in python. To test our implementation, we will be using the same data that we used during our class lectures. Run the following cell to load the known data points:\n"
      ]
    },
    {
      "cell_type": "code",
      "metadata": {
        "id": "rZ4tGQSjTvYF"
      },
      "source": [
        "t = [0, 10, 15, 20, 22.5, 30]\n",
        "v = [0, 227.04, 362.78, 517.35, 602.97, 901.67]"
      ],
      "execution_count": 34,
      "outputs": []
    },
    {
      "cell_type": "markdown",
      "metadata": {
        "id": "3sOLCbqJT7q0"
      },
      "source": [
        "##Task 1\n",
        "Design a utility function that will be called in the `DirectInterpolation` function. The purpose of this function will be to find the $n+1$ closest points to the unknown value $t_{new}$ where we want to interpolate the data, where $n$ is the order of the interpolating polynomial. Understand that the nearest points should be selected such that they bracket the $t_{new}$. The function to be implemented is as follows:"
      ]
    },
    {
      "cell_type": "code",
      "metadata": {
        "id": "f6HGUB7nT9k9"
      },
      "source": [
        "from os import close\n",
        "def NearestPoints(t, v, n, t_new):\n",
        "  closest_index = None\n",
        "  min_distance = float('inf')\n",
        "\n",
        "  for i in range(len(t)):\n",
        "    distance = abs(t[i]-t_new)\n",
        "    if distance<min_distance:\n",
        "      closest_index = i\n",
        "      min_distance = distance\n",
        "\n",
        "\n",
        "  t_nearest = []\n",
        "  v_nearest = []\n",
        "\n",
        "\n",
        "  t_nearest.append(t[closest_index])\n",
        "  v_nearest.append(v[closest_index])\n",
        "\n",
        "  left_index = closest_index -1\n",
        "  right_index = closest_index +1\n",
        "\n",
        "  while len(t_nearest) < n+1:\n",
        "    if left_index >=0 and right_index <len(t):\n",
        "      if abs(t[left_index] - t_new) <= abs(t[right_index] - t_new):\n",
        "        t_nearest.insert(0,t[left_index])\n",
        "        v_nearest.insert(0, v[left_index])\n",
        "        left_index -= 1\n",
        "      else:\n",
        "        t_nearest.append(t[right_index])\n",
        "        v_nearest.append(v[right_index])\n",
        "        right_index += 1\n",
        "    elif left_index >=0:\n",
        "      t_nearest.insert(0, t[left_index])\n",
        "      v_nearest.insert(0, v[left_index])\n",
        "      left_index -= 1\n",
        "    elif right_index <len(t):\n",
        "      t_nearest.append(t[right_index])\n",
        "      v_nearest.append(v[right_index])\n",
        "      right_index += 1\n",
        "\n",
        "\n",
        "\n",
        "\n",
        "  return t_nearest, v_nearest\n"
      ],
      "execution_count": 35,
      "outputs": []
    },
    {
      "cell_type": "markdown",
      "source": [
        "The above function is supposed to return two vectors, say `t_nearest` and `v_nearest` consisting of $n+1$ elements each. For testing how the function works, we can print the data and see what we are getting. If our implementation is correct, then we should be getting $[15], [362.78]$ for $n=0$. Run the following cell to check this:"
      ],
      "metadata": {
        "id": "w25YRkvd9XEh"
      }
    },
    {
      "cell_type": "code",
      "source": [
        "n = 0\n",
        "t_new = 16\n",
        "\n",
        "t_nearest, v_nearest = NearestPoints(t, v, n, t_new)\n",
        "print(t_nearest)\n",
        "print(v_nearest)"
      ],
      "metadata": {
        "id": "FSo0cJ1TkmRN",
        "colab": {
          "base_uri": "https://localhost:8080/"
        },
        "outputId": "1d5a83d4-0d57-454c-bec3-a364d3f3667d"
      },
      "execution_count": 36,
      "outputs": [
        {
          "output_type": "stream",
          "name": "stdout",
          "text": [
            "[15]\n",
            "[362.78]\n"
          ]
        }
      ]
    },
    {
      "cell_type": "code",
      "source": [
        "n = 1\n",
        "t_new = 16\n",
        "\n",
        "t_nearest, v_nearest = NearestPoints(t, v, n, t_new)\n",
        "print(t_nearest)\n",
        "print(v_nearest)"
      ],
      "metadata": {
        "id": "z5SN6pQj9Z7Q",
        "colab": {
          "base_uri": "https://localhost:8080/"
        },
        "outputId": "fd075143-004b-46f3-dbc3-d203dcc5a9db"
      },
      "execution_count": 37,
      "outputs": [
        {
          "output_type": "stream",
          "name": "stdout",
          "text": [
            "[15, 20]\n",
            "[362.78, 517.35]\n"
          ]
        }
      ]
    },
    {
      "cell_type": "markdown",
      "source": [
        "The output for $n=1$ should be $[15, 20], [362.78, 517.35]$"
      ],
      "metadata": {
        "id": "JdaIx97ljwYk"
      }
    },
    {
      "cell_type": "code",
      "source": [
        "n = 2\n",
        "t_new = 16\n",
        "\n",
        "t_nearest, v_nearest = NearestPoints(t, v, n, t_new)\n",
        "print(t_nearest)\n",
        "print(v_nearest)"
      ],
      "metadata": {
        "id": "hOb4TMsTkBjs",
        "colab": {
          "base_uri": "https://localhost:8080/"
        },
        "outputId": "6991907d-7fb3-4589-ca7b-e656527b9cf0"
      },
      "execution_count": 38,
      "outputs": [
        {
          "output_type": "stream",
          "name": "stdout",
          "text": [
            "[10, 15, 20]\n",
            "[227.04, 362.78, 517.35]\n"
          ]
        }
      ]
    },
    {
      "cell_type": "markdown",
      "source": [
        "The output for $n=2$ should be $[15, 20, 10], [362.78, 517.35, 227.04]$"
      ],
      "metadata": {
        "id": "KzFR4QO8kFRn"
      }
    },
    {
      "cell_type": "markdown",
      "metadata": {
        "id": "Z6sc0ZNUUGNk"
      },
      "source": [
        "## Task 2\n",
        "Now your task is to design a generalized function that takes the given data as parameters as well as the order $n$ of the polynomial and uses the *Direct Interpolation* method to interpolate the unknown data at $t_{new}$. The following cell contains the function to be implemented:"
      ]
    },
    {
      "cell_type": "code",
      "metadata": {
        "id": "zHadfasm8dUF"
      },
      "source": [
        "import numpy as np\n",
        "\n",
        "def DirectInterpolation(t, v, n, t_new):\n",
        "    t_nearest, v_nearest = NearestPoints(t,v,n,t_new)\n",
        "\n",
        "    A = np.vander(t_nearest,N=n+1,increasing=True)\n",
        "    B = np.array(v_nearest)\n",
        "\n",
        "    coeff = np.linalg.solve(A,B)\n",
        "    f = []\n",
        "\n",
        "    for i in range(n+1):\n",
        "      f.append(coeff[i] * (t_new ** i))\n",
        "\n",
        "\n",
        "    return f\n",
        "\n",
        "def eval(f, t_new):\n",
        "    val = sum(f)\n",
        "    return val"
      ],
      "execution_count": 39,
      "outputs": []
    },
    {
      "cell_type": "markdown",
      "metadata": {
        "id": "t1yWM5V18cA2"
      },
      "source": [
        "Note that the above function will at first need to find a number of closest points to the unknown data $t_{new}$, and this number will vary depending on the order $n$ of the polynomial that we want to use as the interpolating function. So you will have to call the function you implemented in Task 1 inside this function."
      ]
    },
    {
      "cell_type": "code",
      "source": [
        "print(eval(DirectInterpolation(t, v, 1, 16),16))"
      ],
      "metadata": {
        "id": "91g2Q0pTm0Ds",
        "colab": {
          "base_uri": "https://localhost:8080/"
        },
        "outputId": "73b9c901-d6a8-4650-867b-2f9c8f8c6741"
      },
      "execution_count": 40,
      "outputs": [
        {
          "output_type": "stream",
          "name": "stdout",
          "text": [
            "393.69399999999996\n"
          ]
        }
      ]
    },
    {
      "cell_type": "markdown",
      "source": [
        "For $n=1$, we should get $v(16) = 393.7ms^{-1}$."
      ],
      "metadata": {
        "id": "kb6DPOAmnIq7"
      }
    },
    {
      "cell_type": "code",
      "source": [
        "print(eval(DirectInterpolation(t, v, 2, 16),16))"
      ],
      "metadata": {
        "id": "dqVSikEhnERc",
        "colab": {
          "base_uri": "https://localhost:8080/"
        },
        "outputId": "612c0838-55a0-4763-de7b-fb4e579b1c1a"
      },
      "execution_count": 41,
      "outputs": [
        {
          "output_type": "stream",
          "name": "stdout",
          "text": [
            "392.1876\n"
          ]
        }
      ]
    },
    {
      "cell_type": "markdown",
      "source": [
        "For $n=2$, we should get $v(16) = 392.19ms^{-1}$."
      ],
      "metadata": {
        "id": "4eCg93mknX20"
      }
    },
    {
      "cell_type": "code",
      "source": [
        "print(eval(DirectInterpolation(t, v, 3, 16),16))"
      ],
      "metadata": {
        "id": "eabSBX2WnEsS",
        "colab": {
          "base_uri": "https://localhost:8080/"
        },
        "outputId": "ba341abb-64d6-4b07-e43c-59917a291c04"
      },
      "execution_count": 42,
      "outputs": [
        {
          "output_type": "stream",
          "name": "stdout",
          "text": [
            "392.057168\n"
          ]
        }
      ]
    },
    {
      "cell_type": "markdown",
      "source": [
        "For $n=3$, we should get $v(16) = 392.06ms^{-1}$."
      ],
      "metadata": {
        "id": "GvFpwbNmnez_"
      }
    },
    {
      "cell_type": "markdown",
      "metadata": {
        "id": "rcyU1bzM9u3g"
      },
      "source": [
        "##Task 3\n",
        "Now, test the function using different order of polynomials, setting $n = 1, 2,$ and $3$ and so on and print the absolute relative approximate error at each step. Also generate a plot of Order $(n)$ vs Relative Approximate Error $(|\\epsilon_a|\\%)$. In case you do not remember how graphs can be plotted in Python, here is a sample code showing how to do it using the `matplotlib` library."
      ]
    },
    {
      "cell_type": "code",
      "metadata": {
        "id": "HcPhTbIu_sn4",
        "colab": {
          "base_uri": "https://localhost:8080/",
          "height": 472
        },
        "outputId": "6edb8d3b-3cb5-446f-d518-1e3b1e5f5f30"
      },
      "source": [
        "import numpy as np\n",
        "import matplotlib.pyplot as plt\n",
        "\n",
        "iters = np.arange(0, 5) #start=0, stop=5, and since no step is given, so default step=1\n",
        "vals = np.arange(100, 200, 20) #start=100, stop=200, step=20\n",
        "\n",
        "plt.plot(iters, vals)\n",
        "plt.title(\"Iterations vs values plot\")\n",
        "plt.xlabel(\"Iteration\")\n",
        "plt.ylabel(\"Value\")\n",
        "plt.show()"
      ],
      "execution_count": 43,
      "outputs": [
        {
          "output_type": "display_data",
          "data": {
            "text/plain": [
              "<Figure size 640x480 with 1 Axes>"
            ],
            "image/png": "[encoded data removed]"
          },
          "metadata": {}
        }
      ]
    },
    {
      "cell_type": "code",
      "source": [
        "import numpy as np\n",
        "import matplotlib.pyplot as plt\n",
        "\n",
        "def graph_plotting_Ea(t,v,t_new,max):\n",
        "  approx_values = []\n",
        "  errors = []\n",
        "\n",
        "  for i in range(1,max+1):\n",
        "    val = eval(DirectInterpolation(t, v, i, t_new),t_new)\n",
        "    approx_values.append(val)\n",
        "\n",
        "  for i in range(1,len(approx_values)):\n",
        "    ea =abs((approx_values[i]-approx_values[i-1])/approx_values[i]) *100\n",
        "    errors.append(ea)\n",
        "\n",
        "  return errors\n",
        "\n",
        "t_new = 16\n",
        "max = 5\n",
        "\n",
        "errors = graph_plotting_Ea(t,v,t_new,max)\n",
        "orders = np.arange(1,max)\n",
        "\n",
        "plt.plot(orders,errors)\n",
        "plt.title(\"N polynomials vs Relative Approximate Error(Ea)\")\n",
        "plt.xlabel(\"N polynomials\")\n",
        "plt.ylabel(\"Relative Approximate Error(Ea)%\")\n",
        "plt.show()\n",
        "\n"
      ],
      "metadata": {
        "id": "YDxTWEDA_PzH",
        "colab": {
          "base_uri": "https://localhost:8080/",
          "height": 472
        },
        "outputId": "fd3570fc-83c0-41c6-802f-b6d9126010b9"
      },
      "execution_count": 44,
      "outputs": [
        {
          "output_type": "display_data",
          "data": {
            "text/plain": [
              "<Figure size 640x480 with 1 Axes>"
            ],
            "image/png": "[encoded data removed]"
          },
          "metadata": {}
        }
      ]
    },
    {
      "cell_type": "markdown",
      "source": [
        "##Task 4\n",
        "Now, write a function for evaluating the acceleration at $t = 16$"
      ],
      "metadata": {
        "id": "TQaze05x-0B6"
      }
    },
    {
      "cell_type": "code",
      "source": [
        "def DirectInterpolation_Acceleration(t, v, n, t_new):\n",
        "    t_nearest, v_nearest = NearestPoints(t,v,n,t_new)\n",
        "\n",
        "    A = np.vander(t_nearest,N=n+1,increasing=True)\n",
        "    B = np.array(v_nearest)\n",
        "\n",
        "    coeff = np.linalg.solve(A,B)\n",
        "    f = []\n",
        "\n",
        "    for i in range(1,n+1):\n",
        "      f.append(i * coeff[i] * (t_new ** (i-1)))\n",
        "\n",
        "\n",
        "    return f\n",
        "\n",
        "def acceleration(f, t_new):\n",
        "  a = sum(f)\n",
        "  return a\n",
        "\n",
        "print(acceleration(DirectInterpolation_Acceleration(t,v,2,16),16))\n"
      ],
      "metadata": {
        "id": "M3Vhtwnu-99O",
        "colab": {
          "base_uri": "https://localhost:8080/"
        },
        "outputId": "4bc49e11-07cd-4145-e3c4-6716fb8331fc"
      },
      "execution_count": 46,
      "outputs": [
        {
          "output_type": "stream",
          "name": "stdout",
          "text": [
            "29.78420000000001\n"
          ]
        }
      ]
    }
  ]
}